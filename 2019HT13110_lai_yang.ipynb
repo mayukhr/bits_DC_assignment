{
 "metadata": {
  "language_info": {
   "codemirror_mode": {
    "name": "ipython",
    "version": 3
   },
   "file_extension": ".py",
   "mimetype": "text/x-python",
   "name": "python",
   "nbconvert_exporter": "python",
   "pygments_lexer": "ipython3",
   "version": "3.8.3"
  },
  "orig_nbformat": 2,
  "kernelspec": {
   "name": "python383jvsc74a57bd0dca0ade3e726a953b501b15e8e990130d2b7799f14cfd9f4271676035ebe5511",
   "display_name": "Python 3.8.3 64-bit ('base': conda)"
  }
 },
 "nbformat": 4,
 "nbformat_minor": 2,
 "cells": [
  {
   "source": [
    "Lai-Yang Global Snapshot Recording Algorithm.\n",
    "This only works for 2 processes now."
   ],
   "cell_type": "markdown",
   "metadata": {}
  },
  {
   "cell_type": "code",
   "execution_count": 1,
   "metadata": {},
   "outputs": [
    {
     "output_type": "stream",
     "name": "stdout",
     "text": [
      "#Processes are: ['process1', 'process2']\n"
     ]
    }
   ],
   "source": [
    "numberOfProcesses = 2\n",
    "WHITE_MESSAGE = 'white'\n",
    "RED_MESSAGE = 'red'\n",
    "messages = []\n",
    "globalState={}\n",
    "initdict = {}\n",
    "prcs=[]\n",
    "newGlobalState=[]\n",
    "redtimes=[]\n",
    "\n",
    "for i in range(numberOfProcesses):\n",
    "  pname = input(\"Process Name \")\n",
    "  pvalue = input(\"Process Value \")\n",
    "  prcs.append(pname)\n",
    "  initdict[pname] = int(pvalue)\n",
    "\n",
    "print('#Processes are:', prcs)"
   ]
  },
  {
   "cell_type": "code",
   "execution_count": 2,
   "metadata": {},
   "outputs": [
    {
     "output_type": "stream",
     "name": "stdout",
     "text": [
      "#Global State:\n{1: {'process1': 2000, 'process2': 3000}, 2: {'process1': 2000, 'process2': 3000}, 3: {'process1': 2000, 'process2': 3000}, 4: {'process1': 2000, 'process2': 3000}, 5: {'process1': 2000, 'process2': 3000}, 6: {'process1': 2000, 'process2': 3000}, 7: {'process1': 2000, 'process2': 3000}, 8: {'process1': 2000, 'process2': 3000}, 9: {'process1': 2000, 'process2': 3000}}\n"
     ]
    }
   ],
   "source": [
    "for t in range(1,10):\n",
    "  globalState[t]=initdict\n",
    "\n",
    "print('#Global State:')\n",
    "print(globalState)"
   ]
  },
  {
   "cell_type": "code",
   "execution_count": 3,
   "metadata": {},
   "outputs": [],
   "source": [
    "#Message Array initialisation\n",
    "messages = [[prcs[0], 1, prcs[1], 2, 120, WHITE_MESSAGE],\n",
    "            [prcs[0], 2, prcs[1], 6, 130, WHITE_MESSAGE],\n",
    "            [prcs[0], 3, prcs[1], 5, 110, WHITE_MESSAGE],\n",
    "            [prcs[1], 4, prcs[0], 6, 130, WHITE_MESSAGE],\n",
    "            [prcs[1], 7, prcs[0], 8, 120, WHITE_MESSAGE]]\n",
    "\n",
    "k = 1\n",
    "for key in initdict:\n",
    "  newlist=[]\n",
    "  newlist.append(k)\n",
    "  newlist.append(initdict[key])\n",
    "  newlist.append(key)\n",
    "  newGlobalState.append(newlist)\n",
    "  k=k+1"
   ]
  },
  {
   "cell_type": "code",
   "execution_count": 4,
   "metadata": {},
   "outputs": [
    {
     "output_type": "stream",
     "name": "stdout",
     "text": [
      "1880 2 process1\n3000 2 process2\n1750 3 process1\n3120 3 process2\n1640 4 process1\n3120 4 process2\n1640 5 process1\n2990 5 process2\n1640 6 process1\n3100 6 process2\n1770 7 process1\n3230 7 process2\n1770 8 process1\n3110 8 process2\n1890 9 process1\n3110 9 process2\n\nNew Global State:\n[[1, 2000, 'process1'], [2, 3000, 'process2'], [2, 1880, 'process1'], [2, 3000, 'process2'], [3, 1750, 'process1'], [3, 3120, 'process2'], [4, 1640, 'process1'], [4, 3120, 'process2'], [5, 1640, 'process1'], [5, 2990, 'process2'], [6, 1640, 'process1'], [6, 3100, 'process2'], [7, 1770, 'process1'], [7, 3230, 'process2'], [8, 1770, 'process1'], [8, 3110, 'process2'], [9, 1890, 'process1'], [9, 3110, 'process2']]\n"
     ]
    }
   ],
   "source": [
    "#Updating values\n",
    "for timer in range(2,10):\n",
    "  for p in prcs: \n",
    "    for m in messages:\n",
    "      if(m[0]==p and timer-1==m[1]):\n",
    "        globalState[timer][p]=globalState[timer-1][p]-m[4]       \n",
    "      elif(m[2]==p and timer-1==m[3]):\n",
    "        globalState[timer][p]=globalState[timer-1][p]+m[4]        \n",
    "      else: \n",
    "        globalState[timer][p]=globalState[timer-1][p]\n",
    "    print(globalState[timer][p], timer, p)\n",
    "    newlist=[]\n",
    "    newlist.append(timer)\n",
    "    newlist.append(globalState[timer][p])\n",
    "    newlist.append(p)\n",
    "    newGlobalState.append(newlist)\n",
    "print(\"\")\n",
    "print(\"New Global State:\")\n",
    "print(newGlobalState)"
   ]
  },
  {
   "cell_type": "code",
   "execution_count": 5,
   "metadata": {},
   "outputs": [
    {
     "output_type": "stream",
     "name": "stdout",
     "text": [
      "#Messages:  [['process1', 1, 'process2', 2, 120, 'white'], ['process1', 2, 'process2', 6, 130, 'white'], ['process1', 3, 'process2', 5, 110, 'red'], ['process2', 4, 'process1', 6, 130, 'white'], ['process2', 7, 'process1', 8, 120, 'white']] {'process2': 5}\n#Red Processes:  {'process2': 5}\n"
     ]
    }
   ],
   "source": [
    "#Marking messages as red\n",
    "redmsg = prcs[0]\n",
    "redmsgtime = 3\n",
    "restred = float('inf')\n",
    "otherredprocess = {}\n",
    "globalSnapshot = {}\n",
    "globalSnapshot[redmsg]=redmsgtime\n",
    "for m in messages:\n",
    "  if(m[0]==redmsg and m[1]>=redmsgtime):\n",
    "    m[5]=RED_MESSAGE\n",
    "    if m[3]<restred:\n",
    "      restred=m[3]\n",
    "      otherredprocess[m[2]]=restred\n",
    " \n",
    "#for other processes find the timestamp when each of them turned red\n",
    " \n",
    "print(\"#Messages: \",messages, otherredprocess)\n",
    "print(\"#Red Processes: \", otherredprocess)"
   ]
  },
  {
   "cell_type": "code",
   "execution_count": 6,
   "metadata": {},
   "outputs": [
    {
     "output_type": "stream",
     "name": "stdout",
     "text": [
      "#Messages:  [['process1', 1, 'process2', 2, 120, 'white'], ['process1', 2, 'process2', 6, 130, 'white'], ['process1', 3, 'process2', 5, 110, 'red'], ['process2', 4, 'process1', 6, 130, 'white'], ['process2', 7, 'process1', 8, 120, 'red']]\n"
     ]
    }
   ],
   "source": [
    "for i in otherredprocess:\n",
    "  for m in messages:\n",
    "    if(m[0]==i and m[1]>=otherredprocess[i]):\n",
    "      m[5]=RED_MESSAGE\n",
    "print(\"#Messages: \",messages)"
   ]
  },
  {
   "cell_type": "code",
   "execution_count": 7,
   "metadata": {},
   "outputs": [],
   "source": [
    "\n",
    "redtimes.append(redmsgtime)\n",
    "#Snapshot for starter process\n",
    "for n in newGlobalState:\n",
    "  if(n[0]==redmsgtime and n[2]==redmsg):\n",
    "    globalSnapshot[n[2]]=n[1]"
   ]
  },
  {
   "cell_type": "code",
   "execution_count": 8,
   "metadata": {},
   "outputs": [
    {
     "output_type": "stream",
     "name": "stdout",
     "text": [
      "#Reds:  [3, 5]\n"
     ]
    }
   ],
   "source": [
    "#For other processes\n",
    "temp =0\n",
    "newredproc = ''\n",
    "for m in messages:\n",
    "  if(m[0]==redmsg and m[1]==redmsgtime):\n",
    "    temp = m[3]\n",
    "    newredproc = m[2]\n",
    "    redtimes.append(temp)\n",
    "    break\n",
    "for n in newGlobalState:\n",
    "  if(n[0]==temp and n[2]==newredproc):\n",
    "    globalSnapshot[n[2]]=n[1]\n",
    " \n",
    "print(\"#Reds: \",redtimes)"
   ]
  },
  {
   "cell_type": "code",
   "execution_count": 9,
   "metadata": {},
   "outputs": [
    {
     "output_type": "stream",
     "name": "stdout",
     "text": [
      "Global {'process1': 1750, 'process2': 2990}\n"
     ]
    }
   ],
   "source": [
    "print(\"Global\", globalSnapshot)"
   ]
  },
  {
   "cell_type": "code",
   "execution_count": 10,
   "metadata": {},
   "outputs": [
    {
     "output_type": "stream",
     "name": "stdout",
     "text": [
      "Channels 250 120 130 0\n"
     ]
    }
   ],
   "source": [
    "Channel12Sent = 0\n",
    "Channel12Receive = 0\n",
    "Channel21Receive = 0\n",
    "Channel21Sent = 0\n",
    "for m in messages:\n",
    "  if(m[5]==WHITE_MESSAGE and m[0]==prcs[0] and m[2] == prcs[1] and m[1]<redtimes[0]):\n",
    "    Channel12Sent+=m[4]\n",
    "  if(m[5]==WHITE_MESSAGE and m[0]==prcs[0] and m[2] == prcs[1] and m[3]<redtimes[1]):\n",
    "    Channel12Receive+=m[4]\n",
    "  if(m[5]==WHITE_MESSAGE and m[0]==prcs[1] and m[2] == prcs[0] and m[1]<redtimes[1]):\n",
    "    Channel21Sent+=m[4]\n",
    "  if(m[5]==WHITE_MESSAGE and m[0]==prcs[1] and m[2] == prcs[0] and m[3]<redtimes[0]):\n",
    "    Channel21Receive+=m[4]  \n",
    "\n",
    "print(\"Channels\", Channel12Sent, Channel12Receive, Channel21Sent, Channel21Receive)"
   ]
  },
  {
   "cell_type": "code",
   "execution_count": 11,
   "metadata": {},
   "outputs": [
    {
     "output_type": "stream",
     "name": "stdout",
     "text": [
      "#Final Snapshot:\n----------------------------------------------\nValue of Process #1: 1750\nValue of Process #2: 2990\nValue of messages in transit: 260\n(Value of Process #1 + Value of Process #2 + Value of messages in transit) =  5000\n"
     ]
    }
   ],
   "source": [
    "print(\"#Final Snapshot:\")\n",
    "print('----------------------------------------------')\n",
    "finalvalue = 0\n",
    "#TO find integrity of the system value\n",
    "finalvalue+=globalSnapshot[prcs[0]]\n",
    "finalvalue+=globalSnapshot[prcs[1]]\n",
    "finalvalue+=(Channel12Sent - Channel12Receive)\n",
    "finalvalue+=(Channel21Sent - Channel21Receive)\n",
    "print('Value of Process #1:', globalSnapshot[prcs[0]])\n",
    "print('Value of Process #2:', globalSnapshot[prcs[1]])\n",
    "print('Value of messages in transit:', (Channel12Sent - Channel12Receive) + (Channel21Sent - Channel21Receive))\n",
    "print(\"(Value of Process #1 + Value of Process #2 + Value of messages in transit) = \", finalvalue)"
   ]
  }
 ]
}